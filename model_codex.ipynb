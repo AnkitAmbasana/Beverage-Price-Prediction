{
 "cells": [
  {
   "cell_type": "code",
   "id": "initial_id",
   "metadata": {
    "collapsed": true,
    "ExecuteTime": {
     "end_time": "2025-08-07T13:38:47.967966Z",
     "start_time": "2025-08-07T13:38:46.707338Z"
    }
   },
   "source": [
    "import pandas as pd\n",
    "from sklearn.model_selection import train_test_split\n",
    "from sklearn.linear_model import LogisticRegression\n",
    "from sklearn.naive_bayes import GaussianNB\n",
    "from sklearn.svm import SVC\n",
    "from sklearn.ensemble import RandomForestClassifier\n",
    "from xgboost import XGBClassifier\n",
    "from lightgbm import LGBMClassifier\n",
    "from sklearn.preprocessing import LabelEncoder\n",
    "from sklearn.metrics import accuracy_score, classification_report\n",
    "import joblib\n",
    "import mlflow\n",
    "import dagshub"
   ],
   "outputs": [],
   "execution_count": 1
  },
  {
   "metadata": {},
   "cell_type": "code",
   "source": [
    "df = pd.read_csv('cleaned_survey_results_after_feature.csv')\n",
    "df.head(3)"
   ],
   "id": "877478dd5b17a275",
   "outputs": [],
   "execution_count": null
  },
  {
   "metadata": {},
   "cell_type": "markdown",
   "source": [
    "<h3 style=\"color: #4CAF50; font-family: 'Trebuchet MS', sans-serif;\">\n",
    "    📝 Step 1: Data Split for Training</h3>"
   ],
   "id": "5bc59887b4a75193"
  },
  {
   "metadata": {},
   "cell_type": "code",
   "source": [
    "df.drop(['respondent_id'],axis=1,inplace=True)\n",
    "df.head(2)"
   ],
   "id": "f6489552fba05dc9",
   "outputs": [],
   "execution_count": null
  },
  {
   "metadata": {
    "ExecuteTime": {
     "end_time": "2025-08-07T13:38:51.032814Z",
     "start_time": "2025-08-07T13:38:51.000532Z"
    }
   },
   "cell_type": "code",
   "source": [
    "X = df.drop(['price_range'],axis=1)\n",
    "y = df['price_range']"
   ],
   "id": "7bf95aa51d530486",
   "outputs": [],
   "execution_count": 4
  },
  {
   "metadata": {
    "ExecuteTime": {
     "end_time": "2025-08-07T13:38:51.548411Z",
     "start_time": "2025-08-07T13:38:51.498225Z"
    }
   },
   "cell_type": "code",
   "source": "X_train, X_test, y_train, y_test = train_test_split(X, y, test_size=0.25, random_state=42)",
   "id": "ff9d46b915ff9120",
   "outputs": [],
   "execution_count": 5
  },
  {
   "metadata": {},
   "cell_type": "markdown",
   "source": [
    "<h3 style=\"color: #4CAF50; font-family: 'Trebuchet MS', sans-serif;\">\n",
    "    📝 Step 2: Feature Encoding</h3>"
   ],
   "id": "b197ce8b7f5e605b"
  },
  {
   "metadata": {
    "ExecuteTime": {
     "end_time": "2025-08-07T13:38:52.068116Z",
     "start_time": "2025-08-07T13:38:51.837917Z"
    }
   },
   "cell_type": "code",
   "source": [
    "label_cols = ['age_group','income_levels','health_concerns','consume_frequency(weekly)','preferable_consumption_size']\n",
    "\n",
    "le = LabelEncoder()\n",
    "\n",
    "for col in label_cols:\n",
    "    X_train[col] = le.fit_transform(X_train[col])\n",
    "    X_test[col] = le.transform(X_test[col])"
   ],
   "id": "12fb2e0a72ff3782",
   "outputs": [],
   "execution_count": 6
  },
  {
   "metadata": {},
   "cell_type": "code",
   "source": "X_train['consume_frequency(weekly)'].value_counts()",
   "id": "7d3ff317ff9ab064",
   "outputs": [],
   "execution_count": null
  },
  {
   "metadata": {
    "ExecuteTime": {
     "end_time": "2025-08-07T13:38:52.967881Z",
     "start_time": "2025-08-07T13:38:52.704680Z"
    }
   },
   "cell_type": "code",
   "source": [
    "remaining_cols = X_train.select_dtypes(include=['object']).columns.tolist()\n",
    "X_train = pd.get_dummies(X_train, columns=remaining_cols,drop_first=True)\n",
    "X_test = pd.get_dummies(X_test, columns=remaining_cols, drop_first=True)\n",
    "\n",
    "X_test = X_test.reindex(columns=X_train.columns, fill_value=0)"
   ],
   "id": "b0d060a4ac47cdc9",
   "outputs": [],
   "execution_count": 8
  },
  {
   "metadata": {
    "ExecuteTime": {
     "end_time": "2025-08-07T13:38:54.187953Z",
     "start_time": "2025-08-07T13:38:54.165923Z"
    }
   },
   "cell_type": "code",
   "source": [
    "label_encoder_y = LabelEncoder()\n",
    "y_train = label_encoder_y.fit_transform(y_train)\n",
    "y_test = label_encoder_y.transform(y_test)"
   ],
   "id": "1a10df8316814728",
   "outputs": [],
   "execution_count": 11
  },
  {
   "metadata": {},
   "cell_type": "markdown",
   "source": [
    "<h3 style=\"color: #4CAF50; font-family: 'Trebuchet MS', sans-serif;\">\n",
    "    📈 🛠️ Logistic Model </h3>"
   ],
   "id": "134f976f4c56aa61"
  },
  {
   "metadata": {},
   "cell_type": "code",
   "source": [
    "model_lr = LogisticRegression(max_iter=1000)\n",
    "model_lr.fit(X_train, y_train)\n",
    "y_pred = model_lr.predict(X_test)\n",
    "print(\"Accuracy:\", accuracy_score(y_test, y_pred))\n",
    "print('Classification Report:\\n', classification_report(y_test, y_pred))"
   ],
   "id": "e28682fc6fbba99",
   "outputs": [],
   "execution_count": null
  },
  {
   "metadata": {},
   "cell_type": "markdown",
   "source": [
    "<h3 style=\"color: #4CAF50; font-family: 'Trebuchet MS', sans-serif;\">\n",
    "    📈 🛠️ Guassian NB</h3>"
   ],
   "id": "14c7acf3ac3da704"
  },
  {
   "metadata": {},
   "cell_type": "code",
   "source": [
    "model_nb = GaussianNB()\n",
    "model_nb.fit(X_train, y_train)\n",
    "y_pred_nb = model_nb.predict(X_test)\n",
    "print(\"Accuracy:\", accuracy_score(y_test, y_pred_nb))\n",
    "print(\"Classification Report\", classification_report(y_test, y_pred_nb))"
   ],
   "id": "92f7ca3a43f15cd1",
   "outputs": [],
   "execution_count": null
  },
  {
   "metadata": {},
   "cell_type": "markdown",
   "source": [
    "<h3 style=\"color: #4CAF50; font-family: 'Trebuchet MS', sans-serif;\">\n",
    "    📈 🛠️ Support Vector Machine (SVM) </h3>"
   ],
   "id": "cad295efe64398ac"
  },
  {
   "metadata": {},
   "cell_type": "code",
   "source": [
    "model_svm = SVC()\n",
    "model_svm.fit(X_train, y_train)\n",
    "y_pred_svm = model_svm.predict(X_test)\n",
    "print(\"Accuracy:\", accuracy_score(y_test, y_pred_svm))\n",
    "print(\"Classification Report\", classification_report(y_test, y_pred_svm))"
   ],
   "id": "64cf298e10ed4c6e",
   "outputs": [],
   "execution_count": null
  },
  {
   "metadata": {},
   "cell_type": "markdown",
   "source": [
    "<h3 style=\"color: #4CAF50; font-family: 'Trebuchet MS', sans-serif;\">\n",
    "    📈 🛠️ Random Forest </h3>"
   ],
   "id": "5b1587ee45759194"
  },
  {
   "metadata": {},
   "cell_type": "code",
   "source": [
    "model_rf = RandomForestClassifier()\n",
    "model_rf.fit(X_train, y_train)\n",
    "y_pred_rf = model_rf.predict(X_test)\n",
    "print(\"Accuracy:\", accuracy_score(y_test, y_pred_rf))\n",
    "print(\"Classification Report\", classification_report(y_test, y_pred_rf))"
   ],
   "id": "2f564f1825f9797c",
   "outputs": [],
   "execution_count": null
  },
  {
   "metadata": {},
   "cell_type": "markdown",
   "source": [
    "<h3 style=\"color: #4CAF50; font-family: 'Trebuchet MS', sans-serif;\">\n",
    "    📈 🛠️ XGBOOST </h3>"
   ],
   "id": "335f09975219b069"
  },
  {
   "metadata": {},
   "cell_type": "code",
   "source": [
    "model_xgb = XGBClassifier()\n",
    "model_xgb.fit(X_train, y_train)\n",
    "y_pred_xgb = model_xgb.predict(X_test)\n",
    "print(\"Accuracy:\", accuracy_score(y_test, y_pred_xgb))\n",
    "print(\"Classification Report\", classification_report(y_test, y_pred_xgb))"
   ],
   "id": "fbf8c2fa67938931",
   "outputs": [],
   "execution_count": null
  },
  {
   "metadata": {},
   "cell_type": "markdown",
   "source": [
    "<h3 style=\"color: #4CAF50; font-family: 'Trebuchet MS', sans-serif;\">\n",
    "    📈 🛠️ Light GBM </h3>"
   ],
   "id": "15214afbfc03228c"
  },
  {
   "metadata": {},
   "cell_type": "code",
   "source": [
    "model_lgbm = LGBMClassifier(force_col_wise=True)\n",
    "model_lgbm.fit(X_train, y_train)\n",
    "y_pred_lgbm = model_lgbm.predict(X_test)\n",
    "print(\"Accuracy:\", accuracy_score(y_test, y_pred_lgbm))\n",
    "print(\"Classification Report\", classification_report(y_test, y_pred_lgbm))"
   ],
   "id": "5524ad305a67e7e4",
   "outputs": [],
   "execution_count": null
  },
  {
   "metadata": {},
   "cell_type": "markdown",
   "source": [
    "<h3 style=\"color: #4CAF50; font-family: 'Trebuchet MS', sans-serif;\">\n",
    "    🎯 Save Final Model </h3>"
   ],
   "id": "1b3e4ab4accae0ed"
  },
  {
   "metadata": {},
   "cell_type": "code",
   "source": "joblib.dump(model_xgb, 'final_model_version1.pkl')",
   "id": "8c58403fef69faa4",
   "outputs": [],
   "execution_count": null
  },
  {
   "metadata": {},
   "cell_type": "code",
   "source": "joblib.dump(X_train.columns.tolist(), 'expected_columns.pkl')",
   "id": "533c4caeb0a31abb",
   "outputs": [],
   "execution_count": null
  },
  {
   "metadata": {},
   "cell_type": "code",
   "source": "joblib.dump(label_encoder_y, 'label_encoders.pkl')",
   "id": "c9ccce3b67f9789a",
   "outputs": [],
   "execution_count": null
  },
  {
   "metadata": {},
   "cell_type": "markdown",
   "source": [
    "<h3 style=\"color: #4CAF50; font-family: 'Trebuchet MS', sans-serif;\">\n",
    "    🚀 Config ML Flow for Tracking & Comparison of Models</h3>"
   ],
   "id": "cba2440f77a23eda"
  },
  {
   "metadata": {},
   "cell_type": "code",
   "source": [
    "models = [\n",
    "    (\n",
    "        \"Logistic Regression\",\n",
    "        model_lr,\n",
    "        (X_train, y_train),\n",
    "        (X_test, y_test)\n",
    "    ),\n",
    "    (\n",
    "        'GaussianNB',\n",
    "        model_nb,\n",
    "        (X_train, y_train),\n",
    "        (X_test, y_test)\n",
    "    ),\n",
    "    (\n",
    "        'Support Vector Machine',\n",
    "        model_svm,\n",
    "        (X_train, y_train),\n",
    "        (X_test, y_test)\n",
    "    ),\n",
    "    (\n",
    "        'Random Forest',\n",
    "        model_rf,\n",
    "        (X_train, y_train),\n",
    "        (X_test, y_test)\n",
    "    ),\n",
    "    (\n",
    "        'XGBOOST',\n",
    "        model_xgb,\n",
    "        (X_train, y_train),\n",
    "        (X_test, y_test)\n",
    "    ),\n",
    "    (\n",
    "        'LightGBM',\n",
    "        model_lgbm,\n",
    "        (X_train, y_train),\n",
    "        (X_test, y_test)\n",
    "    )\n",
    "]"
   ],
   "id": "a0bed51f39b5f7ae",
   "outputs": [],
   "execution_count": null
  },
  {
   "metadata": {},
   "cell_type": "code",
   "source": [
    "reports = []\n",
    "for model_name, model, train_set, test_set in models:\n",
    "    X_train = train_set[0]\n",
    "    y_train = train_set[1]\n",
    "    X_test = test_set[0]\n",
    "    y_test = test_set[1]\n",
    "\n",
    "    model.fit(X_train, y_train)\n",
    "    y_pred = model.predict(X_test)\n",
    "    report = classification_report(y_test, y_pred, output_dict=True)\n",
    "    reports.append(report)"
   ],
   "id": "707edb13b450c940",
   "outputs": [],
   "execution_count": null
  },
  {
   "metadata": {},
   "cell_type": "code",
   "source": [
    "dagshub.init(repo_owner='<your user-name>',\n",
    "             repo_name='<your repo-name>',\n",
    "             mlflow=True)\n",
    "\n",
    "mlflow.set_experiment('Beverage Price Prediction')\n",
    "\n",
    "for i, element in enumerate(models):\n",
    "    model_name = element[0]\n",
    "    model = element[1]\n",
    "    report = reports[i]\n",
    "\n",
    "    with mlflow.start_run(run_name=model_name):\n",
    "        mlflow.log_param('model_name', model_name)\n",
    "        mlflow.log_metric('accuracy', report['accuracy'])\n",
    "        mlflow.log_metric('recall_class_0', report['0']['recall'])\n",
    "        mlflow.log_metric('precision_class_0', report['0']['precision'])\n",
    "        mlflow.log_metric('recall_class_1', report['1']['recall'])\n",
    "        mlflow.log_metric('precision_class_1', report['1']['precision'])\n",
    "        mlflow.log_metric('recall_class_2', report['2']['recall'])\n",
    "        mlflow.log_metric('precision_class_2', report['2']['precision'])\n",
    "        mlflow.log_metric('recall_class_3', report['3']['recall'])\n",
    "        mlflow.log_metric('precision_class_3', report['3']['precision'])\n",
    "        mlflow.log_metric('f1_score_macro', report['macro avg']['f1-score'])\n",
    "\n",
    "        if 'XGBOOST' in model_name:\n",
    "            mlflow.xgboost.log_model(model, 'model')\n",
    "        elif 'LightGBM' in model_name:\n",
    "            mlflow.lightgbm.log_model(model, 'model')\n",
    "        else:\n",
    "            mlflow.sklearn.log_model(model, 'model')"
   ],
   "id": "3552c6117a98dd14",
   "outputs": [],
   "execution_count": null
  }
 ],
 "metadata": {
  "kernelspec": {
   "display_name": "Python 3",
   "language": "python",
   "name": "python3"
  },
  "language_info": {
   "codemirror_mode": {
    "name": "ipython",
    "version": 2
   },
   "file_extension": ".py",
   "mimetype": "text/x-python",
   "name": "python",
   "nbconvert_exporter": "python",
   "pygments_lexer": "ipython2",
   "version": "2.7.6"
  }
 },
 "nbformat": 4,
 "nbformat_minor": 5
}
